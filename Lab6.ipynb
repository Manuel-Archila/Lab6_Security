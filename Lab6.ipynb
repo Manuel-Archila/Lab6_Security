{
 "cells": [
  {
   "cell_type": "markdown",
   "metadata": {},
   "source": [
    "# Laboratorio 6\n",
    "## Security Data Science\n",
    "### Manuel Archila - 161250"
   ]
  },
  {
   "cell_type": "code",
   "execution_count": 117,
   "metadata": {},
   "outputs": [],
   "source": [
    "import scapy.all as scapy\n",
    "import pandas as pd\n",
    "import matplotlib.pyplot as plt"
   ]
  },
  {
   "cell_type": "markdown",
   "metadata": {},
   "source": [
    "##### 1. Descargue e archivo analisis_paquetes.pcap y asignelo a una variable."
   ]
  },
  {
   "cell_type": "code",
   "execution_count": 118,
   "metadata": {},
   "outputs": [],
   "source": [
    "import scapy.all as scapy\n",
    "\n",
    "\n",
    "archivo_pcap = 'analisis_paquetes.pcap'\n",
    "\n",
    "paquetes = scapy.rdpcap(archivo_pcap)\n",
    "\n",
    "datos_paquetes = []\n",
    "\n",
    "for paquete in paquetes:\n",
    "    if paquete.haslayer(scapy.IP):\n",
    "        src_ip = paquete[\"IP\"].src\n",
    "        dst_ip = paquete[\"IP\"].dst\n",
    "        src_port = paquete[\"IP\"].sport\n",
    "        dst_port = paquete[\"IP\"].dport\n",
    "        payload = len(paquete.payload)\n",
    "        timestamp = float(paquete.time)\n",
    "        payload_cont = paquete.payload\n",
    "\n",
    "        datos_paquetes.append([src_ip, dst_ip, src_port, dst_port, payload, timestamp])"
   ]
  },
  {
   "cell_type": "markdown",
   "metadata": {},
   "source": [
    "##### 2, 3. Convierta la variable a un DataFrame y muestre el contenido de las primeras 5 filas del dataset."
   ]
  },
  {
   "cell_type": "code",
   "execution_count": 119,
   "metadata": {},
   "outputs": [
    {
     "data": {
      "text/html": [
       "<div>\n",
       "<style scoped>\n",
       "    .dataframe tbody tr th:only-of-type {\n",
       "        vertical-align: middle;\n",
       "    }\n",
       "\n",
       "    .dataframe tbody tr th {\n",
       "        vertical-align: top;\n",
       "    }\n",
       "\n",
       "    .dataframe thead th {\n",
       "        text-align: right;\n",
       "    }\n",
       "</style>\n",
       "<table border=\"1\" class=\"dataframe\">\n",
       "  <thead>\n",
       "    <tr style=\"text-align: right;\">\n",
       "      <th></th>\n",
       "      <th>Src Address</th>\n",
       "      <th>Dst Address</th>\n",
       "      <th>Src Port</th>\n",
       "      <th>Dst Port</th>\n",
       "      <th>Payload Size</th>\n",
       "      <th>Timestamp</th>\n",
       "    </tr>\n",
       "  </thead>\n",
       "  <tbody>\n",
       "    <tr>\n",
       "      <th>0</th>\n",
       "      <td>10.1.10.53</td>\n",
       "      <td>84.54.22.33</td>\n",
       "      <td>53</td>\n",
       "      <td>53</td>\n",
       "      <td>961</td>\n",
       "      <td>1.532199e+09</td>\n",
       "    </tr>\n",
       "    <tr>\n",
       "      <th>1</th>\n",
       "      <td>84.54.22.33</td>\n",
       "      <td>10.1.10.53</td>\n",
       "      <td>53</td>\n",
       "      <td>53</td>\n",
       "      <td>84</td>\n",
       "      <td>1.532199e+09</td>\n",
       "    </tr>\n",
       "    <tr>\n",
       "      <th>2</th>\n",
       "      <td>10.1.10.53</td>\n",
       "      <td>84.54.22.33</td>\n",
       "      <td>53</td>\n",
       "      <td>53</td>\n",
       "      <td>975</td>\n",
       "      <td>1.532199e+09</td>\n",
       "    </tr>\n",
       "    <tr>\n",
       "      <th>3</th>\n",
       "      <td>84.54.22.33</td>\n",
       "      <td>10.1.10.53</td>\n",
       "      <td>53</td>\n",
       "      <td>53</td>\n",
       "      <td>84</td>\n",
       "      <td>1.532199e+09</td>\n",
       "    </tr>\n",
       "    <tr>\n",
       "      <th>4</th>\n",
       "      <td>10.1.10.53</td>\n",
       "      <td>84.54.22.33</td>\n",
       "      <td>53</td>\n",
       "      <td>53</td>\n",
       "      <td>1012</td>\n",
       "      <td>1.532199e+09</td>\n",
       "    </tr>\n",
       "  </tbody>\n",
       "</table>\n",
       "</div>"
      ],
      "text/plain": [
       "   Src Address  Dst Address  Src Port  Dst Port  Payload Size     Timestamp\n",
       "0   10.1.10.53  84.54.22.33        53        53           961  1.532199e+09\n",
       "1  84.54.22.33   10.1.10.53        53        53            84  1.532199e+09\n",
       "2   10.1.10.53  84.54.22.33        53        53           975  1.532199e+09\n",
       "3  84.54.22.33   10.1.10.53        53        53            84  1.532199e+09\n",
       "4   10.1.10.53  84.54.22.33        53        53          1012  1.532199e+09"
      ]
     },
     "execution_count": 119,
     "metadata": {},
     "output_type": "execute_result"
    }
   ],
   "source": [
    "df_paquetes = pd.DataFrame(datos_paquetes, columns=['Src Address', 'Dst Address', 'Src Port', 'Dst Port', 'Payload Size', 'Timestamp'])\n",
    "\n",
    "df_paquetes.head()"
   ]
  },
  {
   "cell_type": "markdown",
   "metadata": {},
   "source": [
    "##### 5.a y 5.b Muestre todas las IP origen y muestre todas las IP destino"
   ]
  },
  {
   "cell_type": "code",
   "execution_count": 120,
   "metadata": {},
   "outputs": [
    {
     "name": "stdout",
     "output_type": "stream",
     "text": [
      "IPs Origen:\n",
      "['10.1.10.53' '84.54.22.33' '75.75.75.75']\n",
      "IPs Destino:\n",
      "['84.54.22.33' '10.1.10.53' '75.75.75.75']\n"
     ]
    }
   ],
   "source": [
    "\n",
    "print(\"IPs Origen:\")\n",
    "print(df_paquetes['Src Address'].unique())\n",
    "\n",
    "print(\"IPs Destino:\")\n",
    "print(df_paquetes['Dst Address'].unique())\n"
   ]
  },
  {
   "cell_type": "markdown",
   "metadata": {},
   "source": [
    "##### 5.c ¿Cuál es la IP origen más frecuente?\n",
    "- ¿A qué IP destino se comunica con más frecuencia?\n",
    "- ¿A que puerto destino se comunica? ¿Cuál es el propósito de este puerto?\n",
    "- ¿Desde que puertos origen se comunica?"
   ]
  },
  {
   "cell_type": "code",
   "execution_count": 121,
   "metadata": {},
   "outputs": [
    {
     "name": "stdout",
     "output_type": "stream",
     "text": [
      "IP origen más frecuente: 10.1.10.53\n",
      "IP destino más frecuente para la IP origen 10.1.10.53: 84.54.22.33\n",
      "Puerto destino más frecuente para la IP origen 10.1.10.53: 53\n",
      "Puertos origen desde los que se comunica la IP 10.1.10.53: [   53 15812 23903]\n"
     ]
    }
   ],
   "source": [
    "ip_origen_frecuente = df_paquetes['Src Address'].mode()[0]\n",
    "print(f\"IP origen más frecuente: {ip_origen_frecuente}\")\n",
    "\n",
    "datos_ip_frecuente = df_paquetes[df_paquetes['Src Address'] == ip_origen_frecuente]\n",
    "\n",
    "ip_destino_frecuente = datos_ip_frecuente['Dst Address'].mode()[0]\n",
    "print(f\"IP destino más frecuente para la IP origen {ip_origen_frecuente}: {ip_destino_frecuente}\")\n",
    "\n",
    "puerto_destino_frecuente = datos_ip_frecuente['Dst Port'].mode()[0]\n",
    "print(f\"Puerto destino más frecuente para la IP origen {ip_origen_frecuente}: {puerto_destino_frecuente}\")\n",
    "\n",
    "puertos_origen = datos_ip_frecuente['Src Port'].unique()\n",
    "print(f\"Puertos origen desde los que se comunica la IP {ip_origen_frecuente}: {puertos_origen}\")"
   ]
  },
  {
   "cell_type": "markdown",
   "metadata": {},
   "source": [
    "##### 6.a. Genere una gráfica de barras 2D horizontales, en el eje Y las IPs origen, y en el eje X lasuma de los payloads (bytes) enviados desde dichas direcciones."
   ]
  },
  {
   "cell_type": "code",
   "execution_count": 122,
   "metadata": {},
   "outputs": [],
   "source": [
    "sum_payloads = df_paquetes.groupby('Src Address')['Payload Size'].sum()"
   ]
  },
  {
   "cell_type": "code",
   "execution_count": 123,
   "metadata": {},
   "outputs": [
    {
     "data": {
      "image/png": "[encoded data removed]",
      "text/plain": [
       "<Figure size 640x480 with 1 Axes>"
      ]
     },
     "metadata": {},
     "output_type": "display_data"
    }
   ],
   "source": [
    "sum_payloads.sort_values().plot(kind='barh', color='skyblue') \n",
    "plt.xlabel('Suma de Payloads (bytes)')\n",
    "plt.ylabel('Direcciones IP de Origen')\n",
    "plt.title('Suma de Payloads Enviados desde Direcciones IP de Origen')\n",
    "plt.show()"
   ]
  },
  {
   "cell_type": "markdown",
   "metadata": {},
   "source": [
    "##### 6.b. Genere una gráfica de barras 2D horizontales, en el eje Y las IP destino, y en el eje Xla suma de los payloads (bytes) recibidos en dichas direcciones."
   ]
  },
  {
   "cell_type": "code",
   "execution_count": 124,
   "metadata": {},
   "outputs": [
    {
     "data": {
      "image/png": "[encoded data removed]",
      "text/plain": [
       "<Figure size 1000x800 with 1 Axes>"
      ]
     },
     "metadata": {},
     "output_type": "display_data"
    }
   ],
   "source": [
    "payloads_por_destino = df_paquetes.groupby('Dst Address')['Payload Size'].sum()\n",
    "\n",
    "payloads_ordenados = payloads_por_destino.sort_values()\n",
    "\n",
    "# Crear gráfica de barras horizontal\n",
    "plt.figure(figsize=(10, 8))\n",
    "payloads_ordenados.plot(kind='barh', color='blue')\n",
    "plt.xlabel('Suma de Payloads (bytes)')\n",
    "plt.ylabel('Direcciones IP de Destino')\n",
    "plt.title('Suma de Payloads Recibidos en Direcciones IP de Destino')\n",
    "plt.tight_layout()\n",
    "plt.show()"
   ]
  },
  {
   "cell_type": "markdown",
   "metadata": {},
   "source": [
    "##### 6. c. Genere una gráfica de barras 2D horizontales, en el eje Y los puertos origen, y en el eje X la suma de los payloads (bytes) enviados de dichos puertos."
   ]
  },
  {
   "cell_type": "code",
   "execution_count": 125,
   "metadata": {},
   "outputs": [
    {
     "data": {
      "image/png": "[encoded data removed]",
      "text/plain": [
       "<Figure size 1000x800 with 1 Axes>"
      ]
     },
     "metadata": {},
     "output_type": "display_data"
    }
   ],
   "source": [
    "payloads_por_puerto = df_paquetes.groupby('Src Port')['Payload Size'].sum()\n",
    "\n",
    "plt.figure(figsize=(10, 8))\n",
    "payloads_ordenados.plot(kind='barh', color='purple')\n",
    "plt.xlabel('Suma de Payloads (bytes)')\n",
    "plt.ylabel('Puertos de Origen')\n",
    "plt.title('Suma de Payloads Enviados desde Puertos de Origen')\n",
    "plt.tight_layout()\n",
    "plt.show()"
   ]
  },
  {
   "cell_type": "markdown",
   "metadata": {},
   "source": [
    "##### 6. d. Genere una gráfica 2D de barras horizontales, en el eje Y los puertos destino, y en el eje X la suma de los payloads (bytes) recibidos en dichos puertos."
   ]
  },
  {
   "cell_type": "code",
   "execution_count": 126,
   "metadata": {},
   "outputs": [
    {
     "data": {
      "image/png": "[encoded data removed]",
      "text/plain": [
       "<Figure size 1000x800 with 1 Axes>"
      ]
     },
     "metadata": {},
     "output_type": "display_data"
    }
   ],
   "source": [
    "payloads_por_puerto_destino = df_paquetes.groupby('Dst Port')['Payload Size'].sum()\n",
    "\n",
    "payloads_ordenados = payloads_por_puerto_destino.sort_values()\n",
    "\n",
    "# Crear gráfica de barras horizontal\n",
    "plt.figure(figsize=(10, 8))\n",
    "payloads_ordenados.plot(kind='barh', color='teal')\n",
    "plt.xlabel('Suma de Payloads (bytes)')\n",
    "plt.ylabel('Puertos de Destino')\n",
    "plt.title('Suma de Payloads Recibidos en Puertos de Destino')\n",
    "plt.tight_layout()\n",
    "plt.show()"
   ]
  },
  {
   "cell_type": "markdown",
   "metadata": {},
   "source": [
    "##### 6.e. Genere una gráfica de barras 2D verticales, en el eje Y la suma de los payload, en el eje X el tiempo, para la IP origen más frecuente."
   ]
  },
  {
   "cell_type": "code",
   "execution_count": 127,
   "metadata": {},
   "outputs": [
    {
     "data": {
      "image/png": "[encoded data removed]",
      "text/plain": [
       "<Figure size 640x480 with 1 Axes>"
      ]
     },
     "metadata": {},
     "output_type": "display_data"
    }
   ],
   "source": [
    "payloads_por_tiempo = df_paquetes[df_paquetes['Src Address'] == ip_origen_frecuente].reset_index().groupby('index')['Payload Size'].sum()\n",
    "payloads_por_tiempo.plot(kind='bar', color='skyblue')\n",
    "plt.ylabel('Suma de Payloads (bytes)')\n",
    "plt.xlabel('Tiempo')\n",
    "plt.title('Suma de Payloads por Tiempo para la IP origen más frecuente')\n",
    "plt.show()"
   ]
  },
  {
   "cell_type": "markdown",
   "metadata": {},
   "source": [
    "##### f. Utilizando la información de las estadísticas y la información del comportamiento del tráfico que las gráficas muestran, describa que es lo que está sucediendo. ¿Es común el comportamiento?"
   ]
  },
  {
   "cell_type": "markdown",
   "metadata": {},
   "source": [
    "Al observar la grafica de tiempos se puede ver que la suma de bytes enviada a esta IP es constante, siendo valores muy cercanos al a 1GB de iformación. Ese trafico se ve en el puerto 53 de la IP lo que indica que son solicitudes entrantes al servicio DNS del servidor. Es necesario saber en que contexto esta ocurriendo todo esto para poder determina si es actividad maliciosa. "
   ]
  },
  {
   "cell_type": "markdown",
   "metadata": {},
   "source": [
    "## Analisis de Payload"
   ]
  },
  {
   "cell_type": "markdown",
   "metadata": {},
   "source": [
    "##### a. Cree un nuevo DF que incluya únicamente las conexiones con la dirección IP origen más frecuente."
   ]
  },
  {
   "cell_type": "code",
   "execution_count": 128,
   "metadata": {},
   "outputs": [
    {
     "data": {
      "text/html": [
       "<div>\n",
       "<style scoped>\n",
       "    .dataframe tbody tr th:only-of-type {\n",
       "        vertical-align: middle;\n",
       "    }\n",
       "\n",
       "    .dataframe tbody tr th {\n",
       "        vertical-align: top;\n",
       "    }\n",
       "\n",
       "    .dataframe thead th {\n",
       "        text-align: right;\n",
       "    }\n",
       "</style>\n",
       "<table border=\"1\" class=\"dataframe\">\n",
       "  <thead>\n",
       "    <tr style=\"text-align: right;\">\n",
       "      <th></th>\n",
       "      <th>Src Address</th>\n",
       "      <th>Dst Address</th>\n",
       "      <th>Src Port</th>\n",
       "      <th>Dst Port</th>\n",
       "      <th>Payload Size</th>\n",
       "      <th>Timestamp</th>\n",
       "    </tr>\n",
       "  </thead>\n",
       "  <tbody>\n",
       "    <tr>\n",
       "      <th>0</th>\n",
       "      <td>10.1.10.53</td>\n",
       "      <td>84.54.22.33</td>\n",
       "      <td>53</td>\n",
       "      <td>53</td>\n",
       "      <td>961</td>\n",
       "      <td>1.532199e+09</td>\n",
       "    </tr>\n",
       "    <tr>\n",
       "      <th>2</th>\n",
       "      <td>10.1.10.53</td>\n",
       "      <td>84.54.22.33</td>\n",
       "      <td>53</td>\n",
       "      <td>53</td>\n",
       "      <td>975</td>\n",
       "      <td>1.532199e+09</td>\n",
       "    </tr>\n",
       "    <tr>\n",
       "      <th>4</th>\n",
       "      <td>10.1.10.53</td>\n",
       "      <td>84.54.22.33</td>\n",
       "      <td>53</td>\n",
       "      <td>53</td>\n",
       "      <td>1012</td>\n",
       "      <td>1.532199e+09</td>\n",
       "    </tr>\n",
       "    <tr>\n",
       "      <th>6</th>\n",
       "      <td>10.1.10.53</td>\n",
       "      <td>84.54.22.33</td>\n",
       "      <td>53</td>\n",
       "      <td>53</td>\n",
       "      <td>998</td>\n",
       "      <td>1.532199e+09</td>\n",
       "    </tr>\n",
       "    <tr>\n",
       "      <th>8</th>\n",
       "      <td>10.1.10.53</td>\n",
       "      <td>84.54.22.33</td>\n",
       "      <td>53</td>\n",
       "      <td>53</td>\n",
       "      <td>1003</td>\n",
       "      <td>1.532199e+09</td>\n",
       "    </tr>\n",
       "    <tr>\n",
       "      <th>10</th>\n",
       "      <td>10.1.10.53</td>\n",
       "      <td>84.54.22.33</td>\n",
       "      <td>53</td>\n",
       "      <td>53</td>\n",
       "      <td>1045</td>\n",
       "      <td>1.532199e+09</td>\n",
       "    </tr>\n",
       "    <tr>\n",
       "      <th>12</th>\n",
       "      <td>10.1.10.53</td>\n",
       "      <td>84.54.22.33</td>\n",
       "      <td>53</td>\n",
       "      <td>53</td>\n",
       "      <td>1008</td>\n",
       "      <td>1.532199e+09</td>\n",
       "    </tr>\n",
       "    <tr>\n",
       "      <th>14</th>\n",
       "      <td>10.1.10.53</td>\n",
       "      <td>84.54.22.33</td>\n",
       "      <td>53</td>\n",
       "      <td>53</td>\n",
       "      <td>979</td>\n",
       "      <td>1.532199e+09</td>\n",
       "    </tr>\n",
       "    <tr>\n",
       "      <th>16</th>\n",
       "      <td>10.1.10.53</td>\n",
       "      <td>84.54.22.33</td>\n",
       "      <td>53</td>\n",
       "      <td>53</td>\n",
       "      <td>959</td>\n",
       "      <td>1.532199e+09</td>\n",
       "    </tr>\n",
       "    <tr>\n",
       "      <th>18</th>\n",
       "      <td>10.1.10.53</td>\n",
       "      <td>84.54.22.33</td>\n",
       "      <td>53</td>\n",
       "      <td>53</td>\n",
       "      <td>992</td>\n",
       "      <td>1.532199e+09</td>\n",
       "    </tr>\n",
       "    <tr>\n",
       "      <th>20</th>\n",
       "      <td>10.1.10.53</td>\n",
       "      <td>84.54.22.33</td>\n",
       "      <td>53</td>\n",
       "      <td>53</td>\n",
       "      <td>1051</td>\n",
       "      <td>1.532199e+09</td>\n",
       "    </tr>\n",
       "    <tr>\n",
       "      <th>22</th>\n",
       "      <td>10.1.10.53</td>\n",
       "      <td>75.75.75.75</td>\n",
       "      <td>15812</td>\n",
       "      <td>53</td>\n",
       "      <td>65</td>\n",
       "      <td>1.532199e+09</td>\n",
       "    </tr>\n",
       "    <tr>\n",
       "      <th>23</th>\n",
       "      <td>10.1.10.53</td>\n",
       "      <td>75.75.75.75</td>\n",
       "      <td>23903</td>\n",
       "      <td>53</td>\n",
       "      <td>65</td>\n",
       "      <td>1.532199e+09</td>\n",
       "    </tr>\n",
       "    <tr>\n",
       "      <th>26</th>\n",
       "      <td>10.1.10.53</td>\n",
       "      <td>84.54.22.33</td>\n",
       "      <td>53</td>\n",
       "      <td>53</td>\n",
       "      <td>1006</td>\n",
       "      <td>1.532199e+09</td>\n",
       "    </tr>\n",
       "    <tr>\n",
       "      <th>28</th>\n",
       "      <td>10.1.10.53</td>\n",
       "      <td>84.54.22.33</td>\n",
       "      <td>53</td>\n",
       "      <td>53</td>\n",
       "      <td>986</td>\n",
       "      <td>1.532199e+09</td>\n",
       "    </tr>\n",
       "    <tr>\n",
       "      <th>30</th>\n",
       "      <td>10.1.10.53</td>\n",
       "      <td>84.54.22.33</td>\n",
       "      <td>53</td>\n",
       "      <td>53</td>\n",
       "      <td>1004</td>\n",
       "      <td>1.532199e+09</td>\n",
       "    </tr>\n",
       "    <tr>\n",
       "      <th>32</th>\n",
       "      <td>10.1.10.53</td>\n",
       "      <td>84.54.22.33</td>\n",
       "      <td>53</td>\n",
       "      <td>53</td>\n",
       "      <td>1037</td>\n",
       "      <td>1.532199e+09</td>\n",
       "    </tr>\n",
       "    <tr>\n",
       "      <th>34</th>\n",
       "      <td>10.1.10.53</td>\n",
       "      <td>84.54.22.33</td>\n",
       "      <td>53</td>\n",
       "      <td>53</td>\n",
       "      <td>1004</td>\n",
       "      <td>1.532199e+09</td>\n",
       "    </tr>\n",
       "    <tr>\n",
       "      <th>36</th>\n",
       "      <td>10.1.10.53</td>\n",
       "      <td>84.54.22.33</td>\n",
       "      <td>53</td>\n",
       "      <td>53</td>\n",
       "      <td>1039</td>\n",
       "      <td>1.532199e+09</td>\n",
       "    </tr>\n",
       "    <tr>\n",
       "      <th>38</th>\n",
       "      <td>10.1.10.53</td>\n",
       "      <td>84.54.22.33</td>\n",
       "      <td>53</td>\n",
       "      <td>53</td>\n",
       "      <td>1037</td>\n",
       "      <td>1.532199e+09</td>\n",
       "    </tr>\n",
       "    <tr>\n",
       "      <th>40</th>\n",
       "      <td>10.1.10.53</td>\n",
       "      <td>84.54.22.33</td>\n",
       "      <td>53</td>\n",
       "      <td>53</td>\n",
       "      <td>1035</td>\n",
       "      <td>1.532199e+09</td>\n",
       "    </tr>\n",
       "    <tr>\n",
       "      <th>42</th>\n",
       "      <td>10.1.10.53</td>\n",
       "      <td>84.54.22.33</td>\n",
       "      <td>53</td>\n",
       "      <td>53</td>\n",
       "      <td>1010</td>\n",
       "      <td>1.532199e+09</td>\n",
       "    </tr>\n",
       "    <tr>\n",
       "      <th>44</th>\n",
       "      <td>10.1.10.53</td>\n",
       "      <td>84.54.22.33</td>\n",
       "      <td>53</td>\n",
       "      <td>53</td>\n",
       "      <td>1006</td>\n",
       "      <td>1.532199e+09</td>\n",
       "    </tr>\n",
       "    <tr>\n",
       "      <th>46</th>\n",
       "      <td>10.1.10.53</td>\n",
       "      <td>84.54.22.33</td>\n",
       "      <td>53</td>\n",
       "      <td>53</td>\n",
       "      <td>1006</td>\n",
       "      <td>1.532199e+09</td>\n",
       "    </tr>\n",
       "    <tr>\n",
       "      <th>48</th>\n",
       "      <td>10.1.10.53</td>\n",
       "      <td>84.54.22.33</td>\n",
       "      <td>53</td>\n",
       "      <td>53</td>\n",
       "      <td>1013</td>\n",
       "      <td>1.532199e+09</td>\n",
       "    </tr>\n",
       "    <tr>\n",
       "      <th>50</th>\n",
       "      <td>10.1.10.53</td>\n",
       "      <td>84.54.22.33</td>\n",
       "      <td>53</td>\n",
       "      <td>53</td>\n",
       "      <td>1019</td>\n",
       "      <td>1.532199e+09</td>\n",
       "    </tr>\n",
       "    <tr>\n",
       "      <th>52</th>\n",
       "      <td>10.1.10.53</td>\n",
       "      <td>84.54.22.33</td>\n",
       "      <td>53</td>\n",
       "      <td>53</td>\n",
       "      <td>1005</td>\n",
       "      <td>1.532199e+09</td>\n",
       "    </tr>\n",
       "    <tr>\n",
       "      <th>54</th>\n",
       "      <td>10.1.10.53</td>\n",
       "      <td>84.54.22.33</td>\n",
       "      <td>53</td>\n",
       "      <td>53</td>\n",
       "      <td>1017</td>\n",
       "      <td>1.532199e+09</td>\n",
       "    </tr>\n",
       "    <tr>\n",
       "      <th>56</th>\n",
       "      <td>10.1.10.53</td>\n",
       "      <td>84.54.22.33</td>\n",
       "      <td>53</td>\n",
       "      <td>53</td>\n",
       "      <td>1027</td>\n",
       "      <td>1.532199e+09</td>\n",
       "    </tr>\n",
       "    <tr>\n",
       "      <th>58</th>\n",
       "      <td>10.1.10.53</td>\n",
       "      <td>84.54.22.33</td>\n",
       "      <td>53</td>\n",
       "      <td>53</td>\n",
       "      <td>969</td>\n",
       "      <td>1.532199e+09</td>\n",
       "    </tr>\n",
       "    <tr>\n",
       "      <th>60</th>\n",
       "      <td>10.1.10.53</td>\n",
       "      <td>84.54.22.33</td>\n",
       "      <td>53</td>\n",
       "      <td>53</td>\n",
       "      <td>588</td>\n",
       "      <td>1.532199e+09</td>\n",
       "    </tr>\n",
       "  </tbody>\n",
       "</table>\n",
       "</div>"
      ],
      "text/plain": [
       "   Src Address  Dst Address  Src Port  Dst Port  Payload Size     Timestamp\n",
       "0   10.1.10.53  84.54.22.33        53        53           961  1.532199e+09\n",
       "2   10.1.10.53  84.54.22.33        53        53           975  1.532199e+09\n",
       "4   10.1.10.53  84.54.22.33        53        53          1012  1.532199e+09\n",
       "6   10.1.10.53  84.54.22.33        53        53           998  1.532199e+09\n",
       "8   10.1.10.53  84.54.22.33        53        53          1003  1.532199e+09\n",
       "10  10.1.10.53  84.54.22.33        53        53          1045  1.532199e+09\n",
       "12  10.1.10.53  84.54.22.33        53        53          1008  1.532199e+09\n",
       "14  10.1.10.53  84.54.22.33        53        53           979  1.532199e+09\n",
       "16  10.1.10.53  84.54.22.33        53        53           959  1.532199e+09\n",
       "18  10.1.10.53  84.54.22.33        53        53           992  1.532199e+09\n",
       "20  10.1.10.53  84.54.22.33        53        53          1051  1.532199e+09\n",
       "22  10.1.10.53  75.75.75.75     15812        53            65  1.532199e+09\n",
       "23  10.1.10.53  75.75.75.75     23903        53            65  1.532199e+09\n",
       "26  10.1.10.53  84.54.22.33        53        53          1006  1.532199e+09\n",
       "28  10.1.10.53  84.54.22.33        53        53           986  1.532199e+09\n",
       "30  10.1.10.53  84.54.22.33        53        53          1004  1.532199e+09\n",
       "32  10.1.10.53  84.54.22.33        53        53          1037  1.532199e+09\n",
       "34  10.1.10.53  84.54.22.33        53        53          1004  1.532199e+09\n",
       "36  10.1.10.53  84.54.22.33        53        53          1039  1.532199e+09\n",
       "38  10.1.10.53  84.54.22.33        53        53          1037  1.532199e+09\n",
       "40  10.1.10.53  84.54.22.33        53        53          1035  1.532199e+09\n",
       "42  10.1.10.53  84.54.22.33        53        53          1010  1.532199e+09\n",
       "44  10.1.10.53  84.54.22.33        53        53          1006  1.532199e+09\n",
       "46  10.1.10.53  84.54.22.33        53        53          1006  1.532199e+09\n",
       "48  10.1.10.53  84.54.22.33        53        53          1013  1.532199e+09\n",
       "50  10.1.10.53  84.54.22.33        53        53          1019  1.532199e+09\n",
       "52  10.1.10.53  84.54.22.33        53        53          1005  1.532199e+09\n",
       "54  10.1.10.53  84.54.22.33        53        53          1017  1.532199e+09\n",
       "56  10.1.10.53  84.54.22.33        53        53          1027  1.532199e+09\n",
       "58  10.1.10.53  84.54.22.33        53        53           969  1.532199e+09\n",
       "60  10.1.10.53  84.54.22.33        53        53           588  1.532199e+09"
      ]
     },
     "execution_count": 128,
     "metadata": {},
     "output_type": "execute_result"
    }
   ],
   "source": [
    "ip_origen_frecuente = df_paquetes['Src Address'].mode()[0]\n",
    "\n",
    "df_ip_frecuente = df_paquetes[df_paquetes['Src Address'] == ip_origen_frecuente]\n",
    "\n",
    "df_ip_frecuente"
   ]
  },
  {
   "cell_type": "markdown",
   "metadata": {},
   "source": [
    "##### b. Cree un nuevo DF que utilice el DF anterior con las columnas src, dst y payload y agrúpelas por dst y la suma del payload"
   ]
  },
  {
   "cell_type": "code",
   "execution_count": 129,
   "metadata": {},
   "outputs": [],
   "source": [
    "df_agrupado = df_ip_frecuente.groupby('Dst Address')['Payload Size'].sum().reset_index()"
   ]
  },
  {
   "cell_type": "markdown",
   "metadata": {},
   "source": [
    "##### c. Obtenga la IP destino que más ha intercambiado bytes con la IP más frecuente. Esta IP es sospechosa por la cantidad de bytes intercambiados, entre todas las direcciones."
   ]
  },
  {
   "cell_type": "code",
   "execution_count": 130,
   "metadata": {},
   "outputs": [],
   "source": [
    "ip_sospechosa = df_agrupado[df_agrupado['Payload Size'] == df_agrupado['Payload Size'].max()]['Dst Address'].iloc[0]"
   ]
  },
  {
   "cell_type": "markdown",
   "metadata": {},
   "source": [
    "##### d. Cree un nuevo DF con la conversación entre la IP más frecuente y la IP sospechosa."
   ]
  },
  {
   "cell_type": "code",
   "execution_count": 131,
   "metadata": {},
   "outputs": [
    {
     "data": {
      "text/html": [
       "<div>\n",
       "<style scoped>\n",
       "    .dataframe tbody tr th:only-of-type {\n",
       "        vertical-align: middle;\n",
       "    }\n",
       "\n",
       "    .dataframe tbody tr th {\n",
       "        vertical-align: top;\n",
       "    }\n",
       "\n",
       "    .dataframe thead th {\n",
       "        text-align: right;\n",
       "    }\n",
       "</style>\n",
       "<table border=\"1\" class=\"dataframe\">\n",
       "  <thead>\n",
       "    <tr style=\"text-align: right;\">\n",
       "      <th></th>\n",
       "      <th>Src Address</th>\n",
       "      <th>Dst Address</th>\n",
       "      <th>Src Port</th>\n",
       "      <th>Dst Port</th>\n",
       "      <th>Payload Size</th>\n",
       "      <th>Timestamp</th>\n",
       "    </tr>\n",
       "  </thead>\n",
       "  <tbody>\n",
       "    <tr>\n",
       "      <th>0</th>\n",
       "      <td>10.1.10.53</td>\n",
       "      <td>84.54.22.33</td>\n",
       "      <td>53</td>\n",
       "      <td>53</td>\n",
       "      <td>961</td>\n",
       "      <td>1.532199e+09</td>\n",
       "    </tr>\n",
       "    <tr>\n",
       "      <th>2</th>\n",
       "      <td>10.1.10.53</td>\n",
       "      <td>84.54.22.33</td>\n",
       "      <td>53</td>\n",
       "      <td>53</td>\n",
       "      <td>975</td>\n",
       "      <td>1.532199e+09</td>\n",
       "    </tr>\n",
       "    <tr>\n",
       "      <th>4</th>\n",
       "      <td>10.1.10.53</td>\n",
       "      <td>84.54.22.33</td>\n",
       "      <td>53</td>\n",
       "      <td>53</td>\n",
       "      <td>1012</td>\n",
       "      <td>1.532199e+09</td>\n",
       "    </tr>\n",
       "    <tr>\n",
       "      <th>6</th>\n",
       "      <td>10.1.10.53</td>\n",
       "      <td>84.54.22.33</td>\n",
       "      <td>53</td>\n",
       "      <td>53</td>\n",
       "      <td>998</td>\n",
       "      <td>1.532199e+09</td>\n",
       "    </tr>\n",
       "    <tr>\n",
       "      <th>8</th>\n",
       "      <td>10.1.10.53</td>\n",
       "      <td>84.54.22.33</td>\n",
       "      <td>53</td>\n",
       "      <td>53</td>\n",
       "      <td>1003</td>\n",
       "      <td>1.532199e+09</td>\n",
       "    </tr>\n",
       "  </tbody>\n",
       "</table>\n",
       "</div>"
      ],
      "text/plain": [
       "  Src Address  Dst Address  Src Port  Dst Port  Payload Size     Timestamp\n",
       "0  10.1.10.53  84.54.22.33        53        53           961  1.532199e+09\n",
       "2  10.1.10.53  84.54.22.33        53        53           975  1.532199e+09\n",
       "4  10.1.10.53  84.54.22.33        53        53          1012  1.532199e+09\n",
       "6  10.1.10.53  84.54.22.33        53        53           998  1.532199e+09\n",
       "8  10.1.10.53  84.54.22.33        53        53          1003  1.532199e+09"
      ]
     },
     "execution_count": 131,
     "metadata": {},
     "output_type": "execute_result"
    }
   ],
   "source": [
    "df_conversacion = df_ip_frecuente[(df_ip_frecuente['Src Address'] == ip_origen_frecuente) & (df_ip_frecuente['Dst Address'] == ip_sospechosa)]\n",
    "df_conversacion.head()"
   ]
  },
  {
   "cell_type": "markdown",
   "metadata": {},
   "source": [
    "##### e. Obtenga los payloads del DF del inciso anterior, y añada cada uno en un array."
   ]
  },
  {
   "cell_type": "code",
   "execution_count": 132,
   "metadata": {},
   "outputs": [],
   "source": [
    "array_payloads = df_conversacion['Payload Size'].to_numpy()"
   ]
  },
  {
   "cell_type": "markdown",
   "metadata": {},
   "source": [
    "##### f. Muestre el contenido del array."
   ]
  },
  {
   "cell_type": "code",
   "execution_count": 133,
   "metadata": {},
   "outputs": [
    {
     "name": "stdout",
     "output_type": "stream",
     "text": [
      "[ 961  975 1012  998 1003 1045 1008  979  959  992 1051 1006  986 1004\n",
      " 1037 1004 1039 1037 1035 1010 1006 1006 1013 1019 1005 1017 1027  969\n",
      "  588]\n"
     ]
    }
   ],
   "source": [
    "print(array_payloads)"
   ]
  },
  {
   "cell_type": "markdown",
   "metadata": {},
   "source": [
    "##### g. Observe los primeros bytes del contenido, ¿encuentra algún dato que no haga sentido que se envíe al puerto destino? Describa lo que encontró"
   ]
  },
  {
   "cell_type": "code",
   "execution_count": 134,
   "metadata": {},
   "outputs": [
    {
     "name": "stdout",
     "output_type": "stream",
     "text": [
      "\n",
      "Bytes del payload:\n",
      "Primeros bytes: 961\n",
      "Primeros bytes: 975\n",
      "Primeros bytes: 1012\n",
      "Primeros bytes: 998\n",
      "Primeros bytes: 1003\n",
      "Primeros bytes: 1045\n",
      "Primeros bytes: 1008\n",
      "Primeros bytes: 979\n",
      "Primeros bytes: 959\n",
      "Primeros bytes: 992\n",
      "Primeros bytes: 1051\n",
      "Primeros bytes: 1006\n",
      "Primeros bytes: 986\n",
      "Primeros bytes: 1004\n",
      "Primeros bytes: 1037\n",
      "Primeros bytes: 1004\n",
      "Primeros bytes: 1039\n",
      "Primeros bytes: 1037\n",
      "Primeros bytes: 1035\n",
      "Primeros bytes: 1010\n",
      "Primeros bytes: 1006\n",
      "Primeros bytes: 1006\n",
      "Primeros bytes: 1013\n",
      "Primeros bytes: 1019\n",
      "Primeros bytes: 1005\n",
      "Primeros bytes: 1017\n",
      "Primeros bytes: 1027\n",
      "Primeros bytes: 969\n",
      "Primeros bytes: 588\n"
     ]
    }
   ],
   "source": [
    "print(\"\\nBytes del payload:\")\n",
    "for payload in array_payloads:\n",
    "    print(\"Primeros bytes:\", str(payload)[:10])"
   ]
  },
  {
   "cell_type": "markdown",
   "metadata": {},
   "source": [
    "Al observar el contenido se puede ver que es trafico normal y no hay indicios de una actividad maliciosa. Este trafico es comun en una red y no se ve nada sospechoso en el contenido de los paquetes."
   ]
  }
 ],
 "metadata": {
  "kernelspec": {
   "display_name": "Python 3",
   "language": "python",
   "name": "python3"
  },
  "language_info": {
   "codemirror_mode": {
    "name": "ipython",
    "version": 3
   },
   "file_extension": ".py",
   "mimetype": "text/x-python",
   "name": "python",
   "nbconvert_exporter": "python",
   "pygments_lexer": "ipython3",
   "version": "3.11.8"
  }
 },
 "nbformat": 4,
 "nbformat_minor": 2
}
